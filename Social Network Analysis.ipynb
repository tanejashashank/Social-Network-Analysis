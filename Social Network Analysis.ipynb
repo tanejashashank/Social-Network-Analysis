{
 "cells": [
  {
   "cell_type": "markdown",
   "metadata": {},
   "source": [
    "## RSM 8431 Social Network Analysis\n",
    "### Student Number: 1006604774"
   ]
  },
  {
   "cell_type": "code",
   "execution_count": 2,
   "metadata": {},
   "outputs": [],
   "source": [
    "import networkx as nx\n",
    "import matplotlib.pyplot as plt\n",
    "import numpy as np"
   ]
  },
  {
   "cell_type": "code",
   "execution_count": 3,
   "metadata": {},
   "outputs": [],
   "source": [
    "def create_toy_network():\n",
    "\n",
    "  G = nx.DiGraph()\n",
    "  edges = [('9','7'), ('8','7'), ('8','6'), ('8','5'), ('7','6'), ('7','5'), ('6','5'), ('6','4'), ('5','4'), ('4','3'), ('4','1'), ('8','7'), ('3','2'), ('3','1'), ('2','1')]\n",
    "  G.add_edges_from(edges)\n",
    "  return G"
   ]
  },
  {
   "cell_type": "code",
   "execution_count": 4,
   "metadata": {},
   "outputs": [],
   "source": [
    "G = create_toy_network()"
   ]
  },
  {
   "cell_type": "code",
   "execution_count": 5,
   "metadata": {},
   "outputs": [
    {
     "name": "stderr",
     "output_type": "stream",
     "text": [
      "C:\\Users\\14379\\Anaconda3\\lib\\site-packages\\networkx\\drawing\\nx_pylab.py:579: MatplotlibDeprecationWarning: \n",
      "The iterable function was deprecated in Matplotlib 3.1 and will be removed in 3.3. Use np.iterable instead.\n",
      "  if not cb.iterable(width):\n",
      "C:\\Users\\14379\\Anaconda3\\lib\\site-packages\\networkx\\drawing\\nx_pylab.py:676: MatplotlibDeprecationWarning: \n",
      "The iterable function was deprecated in Matplotlib 3.1 and will be removed in 3.3. Use np.iterable instead.\n",
      "  if cb.iterable(node_size):  # many node sizes\n"
     ]
    },
    {
     "data": {
      "image/png": "[encoded data removed]",
      "text/plain": [
       "<Figure size 432x288 with 1 Axes>"
      ]
     },
     "metadata": {},
     "output_type": "display_data"
    }
   ],
   "source": [
    "nx.draw(G, with_labels=True, font_weight='bold')\n",
    "plt.show()"
   ]
  },
  {
   "cell_type": "code",
   "execution_count": 18,
   "metadata": {},
   "outputs": [],
   "source": [
    "def pagerank(G, max_iter=1000, d=0.85, has_weight=False):\n",
    "  page_rank_dict = {}\n",
    "\n",
    "  #Defining epsilon for stopping criteria\n",
    "  epsilon = 1.0e-6\n",
    "  Page = list(G.nodes)\n",
    "  # Transistion Matrix\n",
    "  A = nx.to_numpy_matrix(G)   # using networkx function to_numpy_matrix to get adjacency matrix\n",
    "  A = A/A.sum(axis=0)\n",
    "  A = np.nan_to_num(A)\n",
    "\n",
    "  # INITIAL VECTOR\n",
    "    ## Adding a condition if weights are available but the user needs to input them in a fixed format\n",
    "  if has_weight == True:\n",
    "    ipr_str = input(\"Please provide the weights in the format '#, #, #, #, #, #, #, #, #'\")\n",
    "    ## converting the string input to list of floats\n",
    "    ipr_str = ipr_str.split(', ') \n",
    "    for i in range(0, len(ipr_str)):\n",
    "        ipr_str[i] = float(ipr_str[i])\n",
    "    ## Error handling if the input weights are not in right format or length\n",
    "    if len(list(ipr_str)) != len(list(Page)):\n",
    "        raise ValueError(\"The size of weights matrix is not equal to the number of nodes./n Please check the weights.\")\n",
    "    else:\n",
    "        pass\n",
    "    ipr = np.matrix(ipr_str)\n",
    "    ## transposing rX1 array to 1Xr size\n",
    "    ipr = np.transpose(ipr)\n",
    "    \n",
    "    # if initial weights are set to default i.e. False   \n",
    "  else:\n",
    "    Page = list(G.nodes)\n",
    "    ## length of the list to generate intial probability vector\n",
    "    r = len(Page)\n",
    "    ## array of length r\n",
    "    ipr = np.zeros(r)\n",
    "    ## filling the array with values 1/r\n",
    "    ipr[:] = 1/r\n",
    "    ## converting to Intial probability matrix\n",
    "    ipr = np.matrix(ipr)\n",
    "    ## transposing rX1 array to 1Xr size\n",
    "    ipr = np.transpose(ipr)\n",
    "\n",
    "  # Iterate\n",
    "      # update equation\n",
    "    # convergence condition check\n",
    "  pre_ipr = ipr\n",
    "  counter = 0  \n",
    "  for i in range(1,max_iter):\n",
    "    counter += 1\n",
    "    ipr = d*(A*ipr)+(1-d)/len(Page)\n",
    "    # if the difference between sum of elements of page rank matrix and previous iteration lower than epsilon the loop will break\n",
    "    if np.abs(pre_ipr - ipr).sum() < epsilon:\n",
    "        break\n",
    "    pre_ipr = ipr\n",
    "  print('Number of iterations: ' + str(counter)) \n",
    "  ## updating the dictionary\n",
    "  Page_rank = np.array(ipr).reshape(-1,).tolist()\n",
    "  d = dict(zip(Page,Page_rank))\n",
    "  page_rank_dict.update(d)\n",
    "    \n",
    "  return page_rank_dict"
   ]
  },
  {
   "cell_type": "code",
   "execution_count": 21,
   "metadata": {},
   "outputs": [
    {
     "name": "stdout",
     "output_type": "stream",
     "text": [
      "Number of iterations: 9\n"
     ]
    },
    {
     "name": "stderr",
     "output_type": "stream",
     "text": [
      "C:\\Users\\14379\\Anaconda3\\lib\\site-packages\\ipykernel_launcher.py:9: RuntimeWarning: invalid value encountered in true_divide\n",
      "  if __name__ == '__main__':\n"
     ]
    },
    {
     "data": {
      "text/plain": [
       "{'9': 0.03785685624511719,\n",
       " '7': 0.04985926959635417,\n",
       " '8': 0.0710494591748047,\n",
       " '6': 0.0513993046875,\n",
       " '5': 0.040051406250000005,\n",
       " '4': 0.05502291666666667,\n",
       " '3': 0.03956944444444445,\n",
       " '1': 0.01666666666666667,\n",
       " '2': 0.021388888888888895}"
      ]
     },
     "execution_count": 21,
     "metadata": {},
     "output_type": "execute_result"
    }
   ],
   "source": [
    "pagerank(G, max_iter=100, d=0.85, has_weight=False)"
   ]
  },
  {
   "cell_type": "code",
   "execution_count": 22,
   "metadata": {},
   "outputs": [
    {
     "name": "stderr",
     "output_type": "stream",
     "text": [
      "C:\\Users\\14379\\Anaconda3\\lib\\site-packages\\ipykernel_launcher.py:9: RuntimeWarning: invalid value encountered in true_divide\n",
      "  if __name__ == '__main__':\n"
     ]
    },
    {
     "name": "stdin",
     "output_type": "stream",
     "text": [
      "Please provide the weights in the format '#, #, #, #, #, #, #, #, #' .111, .111, .111, .111, .111, .111, .111, .111, .111\n"
     ]
    },
    {
     "name": "stdout",
     "output_type": "stream",
     "text": [
      "Number of iterations: 9\n"
     ]
    },
    {
     "data": {
      "text/plain": [
       "{'9': 0.03785685624511719,\n",
       " '7': 0.04985926959635417,\n",
       " '8': 0.0710494591748047,\n",
       " '6': 0.0513993046875,\n",
       " '5': 0.040051406250000005,\n",
       " '4': 0.05502291666666667,\n",
       " '3': 0.03956944444444445,\n",
       " '1': 0.01666666666666667,\n",
       " '2': 0.021388888888888895}"
      ]
     },
     "execution_count": 22,
     "metadata": {},
     "output_type": "execute_result"
    }
   ],
   "source": [
    "pagerank(G, max_iter=1000, d=0.85, has_weight=True)"
   ]
  },
  {
   "cell_type": "code",
   "execution_count": null,
   "metadata": {},
   "outputs": [],
   "source": []
  }
 ],
 "metadata": {
  "kernelspec": {
   "display_name": "Python 3",
   "language": "python",
   "name": "python3"
  },
  "language_info": {
   "codemirror_mode": {
    "name": "ipython",
    "version": 3
   },
   "file_extension": ".py",
   "mimetype": "text/x-python",
   "name": "python",
   "nbconvert_exporter": "python",
   "pygments_lexer": "ipython3",
   "version": "3.7.3"
  }
 },
 "nbformat": 4,
 "nbformat_minor": 4
}
